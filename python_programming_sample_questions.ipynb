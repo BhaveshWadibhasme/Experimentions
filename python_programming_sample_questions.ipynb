{
  "nbformat": 4,
  "nbformat_minor": 0,
  "metadata": {
    "colab": {
      "provenance": [],
      "authorship_tag": "ABX9TyOvxHbASXDkV9gNqcnr9yJ7",
      "include_colab_link": true
    },
    "kernelspec": {
      "name": "python3",
      "display_name": "Python 3"
    },
    "language_info": {
      "name": "python"
    }
  },
  "cells": [
    {
      "cell_type": "markdown",
      "metadata": {
        "id": "view-in-github",
        "colab_type": "text"
      },
      "source": [
        "<a href=\"https://colab.research.google.com/github/BhaveshWadibhasme/Experimentions/blob/main/python_programming_sample_questions.ipynb\" target=\"_parent\"><img src=\"https://colab.research.google.com/assets/colab-badge.svg\" alt=\"Open In Colab\"/></a>"
      ]
    },
    {
      "cell_type": "markdown",
      "source": [
        "1) Write a program to find if the given number is prime or not.\n",
        "\n",
        "2) Write a program to check if the given number is palindrome or not.\n",
        "\n",
        "3) Write a program to find a maximum of two numbers.\n",
        "\n",
        "4) Write a program to find a minimum of two numbers.\n",
        "\n",
        "5) Write a program to find a factorial of a number.\n",
        "\n",
        "6) Write a Python program to reverse a string.\n",
        "\n",
        "7) Write a Python program to count the frequency of each element in a list.\n",
        "\n",
        "8) Write a Python program to find the common elements between two lists.\n",
        "\n",
        "9) Write a Python program to find the second largest number in a list.\n",
        "\n",
        "10) Write a Python program to remove duplicates from a list.\n",
        "\n",
        "11) Count all letters, digits, and special symbols from a given string.\n",
        "\n",
        "12)Find all occurrences of a substring in a given string by ignoring the case:\n",
        "\n",
        "Write a program to find all occurrences of “USA” in a given string ignoring the case."
      ],
      "metadata": {
        "id": "vQR96oj0EVcM"
      }
    }
  ]
}